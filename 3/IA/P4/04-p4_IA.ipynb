{
 "cells": [
  {
   "cell_type": "markdown",
   "metadata": {},
   "source": [
    "## 4. Predicción de fugas de clientes en una compañía telefónica (7 puntos)"
   ]
  },
  {
   "source": [
    "Una compañía telefónica está interesada en que desarrollemos un modelo que prediga los **100 clientes actuales** (dataset de explotaación) que tienen más probabilidad de abandonar la compañía. Para ello nos proporcionan una base de datos **fuga_clientes_empresa_telefonica_construccion.csv** con casos etiquetados, que usaremos para construir nuestro modelo de predicción.\n",
    "\n",
    "Los campos de esta base de datos son:\n",
    "\n",
    "* **Customer ID**\n",
    "\n",
    "* **network_age**: antigüedad del cliente en días\n",
    "\n",
    "* **Customer tenure in months:** antigüedad del cliente en meses\n",
    "\n",
    "* **Total Spend in Months 1 and 2:** gasto total del cliente en los meses de referencia 1 y 2\n",
    "\n",
    "* **Total SMS Spend:** gasto total en SMS\n",
    "\n",
    "* **Total Data Spend:** gasto total en datos/internet\n",
    "\n",
    "* **Total Data Consumption:** consumo total de datos (en KB) durante el período de estudio\n",
    "\n",
    "* **Total Unique Calls:** número total de llamadas únicas\n",
    "\n",
    "* **Total Onnet spend:** gasto total en llamadas a otros usuarios de la misma red de telefonía\n",
    "\n",
    "* **Total Offnet spend:** gasto total en llamadas a otros usuarios de redes de telefonía diferentes\n",
    "\n",
    "* **Total Call centre complaint calls:** número de llamadas de queja al call center\n",
    "\n",
    "* **Network type subscription in Month 1:** suscripción de tipo de red en el mes 1. Esto indica la suscripción de red preferida de un cliente, lo que puede indicar su tipo de dispositivo: servicio 2G o 3G\n",
    "\n",
    "* **Network type subscription in Month 2:** igual que el anterior pero en el mes posterior\n",
    "\n",
    "* **Churn Status**: el valor es 1 si el cliente abandona la compañía telefónica, 0 si permanece en ella\n",
    "\n",
    "* **Most Loved Competitor network in Month 1:** qué otro proveedor de la competencia prefiere el cliente en el mes 1. En realidad es un conjunto de columnas, cada una enfocada en un proveedor particular\n",
    "\n",
    "* **Most Loved Competitor network in Month 2:** qué otro proveedor de la competencia prefiere el cliente en el mes 2. En realidad es un conjunto de columnas, cada una enfocada en un proveedor particular\n",
    "\n",
    "La variable a predecir es **Churn Status**: el valor es 1 si el cliente **abandona** la compañía, 0 si no la abandona.\n",
    "\n",
    "La compañía también nos proporciona otra base de datos, **fuga_clientes_empresa_telefonica_explotacion.csv**, con información sobre clientes de los que no se sabe ahora mismo si van a permanecer o no en la compañía. Por tanto en esta segunda base de datos todos los valores de la columna **Churn Status** son missing values (NaN).\n",
    "\n",
    "La compañía nos pide que proporcionemos los IDs de los 100 clientes de la base de datos de explotación que con mayor probabilidad vayan a abandonar la compañía. Para ello proporcionaremos como entregable a la compañía un archivo csv con una sola columna, **Customer ID**, y 100 filas que contengan los IDs de los clientes seleccionados.\n",
    "\n",
    "El fichero **ejemplo_fichero_predicciones.csv** contiene un ejemplo con el formato solicitado para este archivo."
   ],
   "cell_type": "markdown",
   "metadata": {}
  },
  {
   "cell_type": "code",
   "execution_count": 1,
   "metadata": {},
   "outputs": [],
   "source": [
    "import pandas as pd"
   ]
  },
  {
   "cell_type": "code",
   "execution_count": 2,
   "metadata": {},
   "outputs": [],
   "source": [
    "datos_construccion = pd.read_csv(\"./fuga_clientes_empresa_telefonica_construccion.csv\")\n",
    "datos_explotacion  = pd.read_csv(\"./fuga_clientes_empresa_telefonica_explotacion.csv\")"
   ]
  },
  {
   "cell_type": "code",
   "execution_count": 3,
   "metadata": {},
   "outputs": [
    {
     "output_type": "execute_result",
     "data": {
      "text/plain": [
       "  Customer ID  network_age  Customer tenure in month  \\\n",
       "0     ADF0039          123                      4.10   \n",
       "1     ADF0041         1316                     43.87   \n",
       "2     ADF0051         2385                     79.50   \n",
       "3     ADF0059         1614                     53.80   \n",
       "4     ADF0060         2175                     72.50   \n",
       "\n",
       "   Total Spend in Months 1 and 2  Total SMS Spend  Total Data Spend  \\\n",
       "0                        76.7140             0.00              1.25   \n",
       "1                        98.8904             4.14              1.25   \n",
       "2                       372.6300             3.51              1.25   \n",
       "3                       530.2000             6.85              1.25   \n",
       "4                       554.1300             6.99            153.75   \n",
       "\n",
       "   Total Data Consumption  Total Unique Calls  Total Onnet spend  \\\n",
       "0                  1.4951                  14                564   \n",
       "1                  1.0244                  27               1626   \n",
       "2                  6.0898                 119              10411   \n",
       "3                  3.3447                  69               6822   \n",
       "4             673204.0342                  33               3387   \n",
       "\n",
       "   Total Offnet spend  ...  Most Loved Competitor network in Month 1_ToCall  \\\n",
       "0                6408  ...                                                0   \n",
       "1                4373  ...                                                0   \n",
       "2               22039  ...                                                0   \n",
       "3                6274  ...                                                0   \n",
       "4                7241  ...                                                0   \n",
       "\n",
       "   Most Loved Competitor network in Month 1_Uxaa  \\\n",
       "0                                              1   \n",
       "1                                              1   \n",
       "2                                              0   \n",
       "3                                              0   \n",
       "4                                              0   \n",
       "\n",
       "   Most Loved Competitor network in Month 1_Weematel  \\\n",
       "0                                                  0   \n",
       "1                                                  0   \n",
       "2                                                  1   \n",
       "3                                                  0   \n",
       "4                                                  1   \n",
       "\n",
       "   Most Loved Competitor network in Month 1_Zintel  \\\n",
       "0                                                0   \n",
       "1                                                0   \n",
       "2                                                0   \n",
       "3                                                0   \n",
       "4                                                0   \n",
       "\n",
       "   Most Loved Competitor network in Month 2_Mango  \\\n",
       "0                                               1   \n",
       "1                                               1   \n",
       "2                                               1   \n",
       "3                                               1   \n",
       "4                                               1   \n",
       "\n",
       "   Most Loved Competitor network in Month 2_PQza  \\\n",
       "0                                              0   \n",
       "1                                              0   \n",
       "2                                              0   \n",
       "3                                              0   \n",
       "4                                              0   \n",
       "\n",
       "   Most Loved Competitor network in Month 2_ToCall  \\\n",
       "0                                                0   \n",
       "1                                                0   \n",
       "2                                                0   \n",
       "3                                                0   \n",
       "4                                                0   \n",
       "\n",
       "   Most Loved Competitor network in Month 2_Uxaa  \\\n",
       "0                                              0   \n",
       "1                                              0   \n",
       "2                                              0   \n",
       "3                                              0   \n",
       "4                                              0   \n",
       "\n",
       "   Most Loved Competitor network in Month 2_Weematel  \\\n",
       "0                                                  0   \n",
       "1                                                  0   \n",
       "2                                                  0   \n",
       "3                                                  0   \n",
       "4                                                  0   \n",
       "\n",
       "   Most Loved Competitor network in Month 2_Zintel  \n",
       "0                                                0  \n",
       "1                                                0  \n",
       "2                                                0  \n",
       "3                                                0  \n",
       "4                                                0  \n",
       "\n",
       "[5 rows x 25 columns]"
      ],
      "text/html": "<div>\n<style scoped>\n    .dataframe tbody tr th:only-of-type {\n        vertical-align: middle;\n    }\n\n    .dataframe tbody tr th {\n        vertical-align: top;\n    }\n\n    .dataframe thead th {\n        text-align: right;\n    }\n</style>\n<table border=\"1\" class=\"dataframe\">\n  <thead>\n    <tr style=\"text-align: right;\">\n      <th></th>\n      <th>Customer ID</th>\n      <th>network_age</th>\n      <th>Customer tenure in month</th>\n      <th>Total Spend in Months 1 and 2</th>\n      <th>Total SMS Spend</th>\n      <th>Total Data Spend</th>\n      <th>Total Data Consumption</th>\n      <th>Total Unique Calls</th>\n      <th>Total Onnet spend</th>\n      <th>Total Offnet spend</th>\n      <th>...</th>\n      <th>Most Loved Competitor network in Month 1_ToCall</th>\n      <th>Most Loved Competitor network in Month 1_Uxaa</th>\n      <th>Most Loved Competitor network in Month 1_Weematel</th>\n      <th>Most Loved Competitor network in Month 1_Zintel</th>\n      <th>Most Loved Competitor network in Month 2_Mango</th>\n      <th>Most Loved Competitor network in Month 2_PQza</th>\n      <th>Most Loved Competitor network in Month 2_ToCall</th>\n      <th>Most Loved Competitor network in Month 2_Uxaa</th>\n      <th>Most Loved Competitor network in Month 2_Weematel</th>\n      <th>Most Loved Competitor network in Month 2_Zintel</th>\n    </tr>\n  </thead>\n  <tbody>\n    <tr>\n      <th>0</th>\n      <td>ADF0039</td>\n      <td>123</td>\n      <td>4.10</td>\n      <td>76.7140</td>\n      <td>0.00</td>\n      <td>1.25</td>\n      <td>1.4951</td>\n      <td>14</td>\n      <td>564</td>\n      <td>6408</td>\n      <td>...</td>\n      <td>0</td>\n      <td>1</td>\n      <td>0</td>\n      <td>0</td>\n      <td>1</td>\n      <td>0</td>\n      <td>0</td>\n      <td>0</td>\n      <td>0</td>\n      <td>0</td>\n    </tr>\n    <tr>\n      <th>1</th>\n      <td>ADF0041</td>\n      <td>1316</td>\n      <td>43.87</td>\n      <td>98.8904</td>\n      <td>4.14</td>\n      <td>1.25</td>\n      <td>1.0244</td>\n      <td>27</td>\n      <td>1626</td>\n      <td>4373</td>\n      <td>...</td>\n      <td>0</td>\n      <td>1</td>\n      <td>0</td>\n      <td>0</td>\n      <td>1</td>\n      <td>0</td>\n      <td>0</td>\n      <td>0</td>\n      <td>0</td>\n      <td>0</td>\n    </tr>\n    <tr>\n      <th>2</th>\n      <td>ADF0051</td>\n      <td>2385</td>\n      <td>79.50</td>\n      <td>372.6300</td>\n      <td>3.51</td>\n      <td>1.25</td>\n      <td>6.0898</td>\n      <td>119</td>\n      <td>10411</td>\n      <td>22039</td>\n      <td>...</td>\n      <td>0</td>\n      <td>0</td>\n      <td>1</td>\n      <td>0</td>\n      <td>1</td>\n      <td>0</td>\n      <td>0</td>\n      <td>0</td>\n      <td>0</td>\n      <td>0</td>\n    </tr>\n    <tr>\n      <th>3</th>\n      <td>ADF0059</td>\n      <td>1614</td>\n      <td>53.80</td>\n      <td>530.2000</td>\n      <td>6.85</td>\n      <td>1.25</td>\n      <td>3.3447</td>\n      <td>69</td>\n      <td>6822</td>\n      <td>6274</td>\n      <td>...</td>\n      <td>0</td>\n      <td>0</td>\n      <td>0</td>\n      <td>0</td>\n      <td>1</td>\n      <td>0</td>\n      <td>0</td>\n      <td>0</td>\n      <td>0</td>\n      <td>0</td>\n    </tr>\n    <tr>\n      <th>4</th>\n      <td>ADF0060</td>\n      <td>2175</td>\n      <td>72.50</td>\n      <td>554.1300</td>\n      <td>6.99</td>\n      <td>153.75</td>\n      <td>673204.0342</td>\n      <td>33</td>\n      <td>3387</td>\n      <td>7241</td>\n      <td>...</td>\n      <td>0</td>\n      <td>0</td>\n      <td>1</td>\n      <td>0</td>\n      <td>1</td>\n      <td>0</td>\n      <td>0</td>\n      <td>0</td>\n      <td>0</td>\n      <td>0</td>\n    </tr>\n  </tbody>\n</table>\n<p>5 rows × 25 columns</p>\n</div>"
     },
     "metadata": {},
     "execution_count": 3
    }
   ],
   "source": [
    "datos_construccion.head()"
   ]
  },
  {
   "cell_type": "code",
   "execution_count": 4,
   "metadata": {},
   "outputs": [
    {
     "output_type": "execute_result",
     "data": {
      "text/plain": [
       "Index(['Customer ID', 'network_age', 'Customer tenure in month',\n",
       "       'Total Spend in Months 1 and 2', 'Total SMS Spend', 'Total Data Spend',\n",
       "       'Total Data Consumption', 'Total Unique Calls', 'Total Onnet spend',\n",
       "       'Total Offnet spend', 'Total Call centre complaint calls',\n",
       "       'Churn Status', 'Most Loved Competitor network in Month 1_0',\n",
       "       'Most Loved Competitor network in Month 1_Mango',\n",
       "       'Most Loved Competitor network in Month 1_PQza',\n",
       "       'Most Loved Competitor network in Month 1_ToCall',\n",
       "       'Most Loved Competitor network in Month 1_Uxaa',\n",
       "       'Most Loved Competitor network in Month 1_Weematel',\n",
       "       'Most Loved Competitor network in Month 1_Zintel',\n",
       "       'Most Loved Competitor network in Month 2_Mango',\n",
       "       'Most Loved Competitor network in Month 2_PQza',\n",
       "       'Most Loved Competitor network in Month 2_ToCall',\n",
       "       'Most Loved Competitor network in Month 2_Uxaa',\n",
       "       'Most Loved Competitor network in Month 2_Weematel',\n",
       "       'Most Loved Competitor network in Month 2_Zintel'],\n",
       "      dtype='object')"
      ]
     },
     "metadata": {},
     "execution_count": 4
    }
   ],
   "source": [
    "datos_explotacion.columns"
   ]
  },
  {
   "cell_type": "code",
   "execution_count": 5,
   "metadata": {},
   "outputs": [
    {
     "output_type": "execute_result",
     "data": {
      "text/plain": [
       "0"
      ]
     },
     "metadata": {},
     "execution_count": 5
    }
   ],
   "source": [
    "# chequeo de que las columnas son exactamente las mismas en los dos ficheros:\n",
    "\n",
    "sum(datos_construccion.columns != datos_explotacion.columns)"
   ]
  },
  {
   "cell_type": "code",
   "execution_count": 6,
   "metadata": {},
   "outputs": [
    {
     "output_type": "execute_result",
     "data": {
      "text/plain": [
       "array([0, 0, 0, 0, 0, 0, 0, 1, 1, 1], dtype=int64)"
      ]
     },
     "metadata": {},
     "execution_count": 6
    }
   ],
   "source": [
    "# la columna a predecir es \"Churn Status\"\n",
    "# si es 1, el cliente se va de la compañía\n",
    "# si es 0, el cliente se queda\n",
    "\n",
    "# Esta columna se sabe en el dataset de construcción (ejemplos de clientes pasados):\n",
    "datos_construccion[\"Churn Status\"].values[:10]"
   ]
  },
  {
   "cell_type": "code",
   "execution_count": 7,
   "metadata": {},
   "outputs": [
    {
     "output_type": "execute_result",
     "data": {
      "text/plain": [
       "array([nan, nan, nan, nan, nan, nan, nan, nan, nan, nan])"
      ]
     },
     "metadata": {},
     "execution_count": 7
    }
   ],
   "source": [
    "# Sin embargo no se sabe en el dataset de explotación (clientes actuales):\n",
    "datos_explotacion[\"Churn Status\"].values[:10]"
   ]
  },
  {
   "source": [
    "# Our approach\n",
    "## Picking our data\n",
    "We began removing the following columns:\n",
    "* Customer ID\n",
    "* network_age\n",
    "* Churn Status\n",
    "\n",
    "We later tested the different models"
   ],
   "cell_type": "markdown",
   "metadata": {}
  },
  {
   "cell_type": "code",
   "execution_count": 8,
   "metadata": {
    "tags": []
   },
   "outputs": [],
   "source": [
    "from sklearn.preprocessing import MinMaxScaler as StandardScaler \n",
    "from sklearn.tree import DecisionTreeClassifier\n",
    "from sklearn.neighbors import KNeighborsClassifier\n",
    "from sklearn.neural_network import MLPClassifier\n",
    "from sklearn.ensemble import VotingClassifier\n",
    "from sklearn.naive_bayes import GaussianNB\n",
    "from sklearn.linear_model import LogisticRegression\n",
    "\n",
    "# First, we normalize the data https://towardsdatascience.com/data-normalization-with-pandas-and-scikit-learn-7c1cc6ed6475\n",
    "\n",
    "names = list(datos_construccion.columns)\n",
    "names.remove('Churn Status') # What we want to predict, remove it\n",
    "names.remove('Customer ID') # The ID has to be removed\n",
    "names.remove('network_age') # Same information as \"Customer tenure in months\"\n",
    "\n",
    "X = datos_construccion[names].values\n",
    "std_scaler = StandardScaler()\n",
    "X = std_scaler.fit_transform(X)\n",
    "\n",
    "y = datos_construccion['Churn Status'].values"
   ]
  },
  {
   "source": [
    "## Training our models\n",
    "To train our models, we simply fitted the X "
   ],
   "cell_type": "markdown",
   "metadata": {}
  },
  {
   "cell_type": "code",
   "execution_count": 9,
   "metadata": {},
   "outputs": [
    {
     "output_type": "stream",
     "name": "stdout",
     "text": [
      "accuracy: 0.7158273381294964\nScore global del modelo: 0.68 +/- 0.05\nScore global del modelo: 0.73 +/- 0.06\nScore global del modelo: 0.61 +/- 0.05\nScore global del modelo: 0.60 +/- 0.04\nScore global del modelo: 0.63 +/- 0.05\n"
     ]
    }
   ],
   "source": [
    "from sklearn.model_selection import train_test_split, cross_val_score\n",
    "from sklearn.metrics import accuracy_score\n",
    "\n",
    "# Then, we evaluated the best possible models.\n",
    "# By manual testing, we found out the following was the best configuration:\n",
    "\n",
    "x_train, x_test, y_train, y_test = train_test_split(X, y, test_size=0.25, random_state=27)\n",
    "\n",
    "knn_clf = KNeighborsClassifier(n_neighbors=5) # Score global del modelo: 0.76 +/- 0.03\n",
    "knn_clf.fit(x_train, y_train)\n",
    "tree_clf = DecisionTreeClassifier(max_depth=13, max_leaf_nodes=100) # Score global del modelo: 0.75 +/- 0.03\n",
    "tree_clf.fit(x_train, y_train)\n",
    "gaus_clf = GaussianNB()\n",
    "gaus_clf.fit(x_train, y_train)\n",
    "log_clf = LogisticRegression(solver = 'lbfgs')\n",
    "log_clf.fit(x_train, y_train)\n",
    "ml_clf = MLPClassifier(hidden_layer_sizes=(100,80,90), max_iter=10000, alpha=0.005,\n",
    "                     solver='sgd', random_state=21,tol=0.0005)\n",
    "ml_clf = ml_clf.fit(x_train, y_train)\n",
    "eclf = VotingClassifier(estimators=\n",
    "        [('knn', knn_clf), ('tree', tree_clf), ('ml', ml_clf)],\n",
    "        voting='soft', weights=[2,1,1]\n",
    "    )\n",
    "eclf = eclf.fit(x_train, y_train)\n",
    "y_pred = eclf.predict(x_test)\n",
    "print('accuracy:', accuracy_score(y_test, y_pred))\n",
    "\n",
    "# NOTE: the scores for MLPClassifier are random\n",
    "scores = cross_val_score(eclf, x_test, y_test, cv=5)\n",
    "print(\"Score global de \\\"Voting Classifier\\\": {:.2f} +/- {:.2f}\".format(scores.mean(), scores.std()))\n",
    "\n",
    "scores = cross_val_score(tree_clf, x_test, y_test, cv=5)\n",
    "print(\"Score global de \\\"Tree Classifier\\\": {:.2f} +/- {:.2f}\".format(scores.mean(), scores.std()))\n",
    "\n",
    "scores = cross_val_score(knn_clf, x_test, y_test, cv=5)\n",
    "print(\"Score global de \\\"Closest Neighbors\\\": {:.2f} +/- {:.2f}\".format(scores.mean(), scores.std()))\n",
    "\n",
    "scores = cross_val_score(gaus_clf, x_test, y_test, cv=5)\n",
    "print(\"Score global de \\\"GaussianNB\\\": {:.2f} +/- {:.2f}\".format(scores.mean(), scores.std()))\n",
    "\n",
    "scores = cross_val_score(log_clf, x_test, y_test, cv=5)\n",
    "print(\"Score global de \\\"Logistic Regression\\\": {:.2f} +/- {:.2f}\".format(scores.mean(), scores.std()))\n"
   ]
  },
  {
   "source": [
    "## Exporting the data to a CSV\n",
    "We first read the file `fuga_clientes_empresa_telefonica_explotacion.csv` and then predicted which ID's should be in the `predicciones.csv` file."
   ],
   "cell_type": "markdown",
   "metadata": {}
  },
  {
   "cell_type": "code",
   "execution_count": 10,
   "metadata": {},
   "outputs": [
    {
     "output_type": "stream",
     "name": "stdout",
     "text": [
      "Predictions created and saved to predicciones.csv\n"
     ]
    }
   ],
   "source": [
    "# we use 'names' from the earlier scripts to take the proper values\n",
    "pred_x = std_scaler.fit_transform(datos_explotacion[names].values)\n",
    "\n",
    "# prediction\n",
    "pred_y = eclf.predict(pred_x)\n",
    "\n",
    "# create the .csv file\n",
    "# (this was way easier than doing an empty data frame)\n",
    "pred_csv = open('predicciones.csv', 'w')\n",
    "pred_csv.write('Customer ID\\n')\n",
    "for index, row in datos_explotacion.iterrows():\n",
    "    if pred_y[index]:\n",
    "        pred_csv.write(row['Customer ID'] + \"\\n\")\n",
    "\n",
    "pred_csv.close()\n",
    "print('Predictions created and saved to predicciones.csv')"
   ]
  }
 ],
 "metadata": {
  "kernelspec": {
   "name": "python395jvsc74a57bd0dc3ed4a2de3c1116da98ab5f2b5f7991e93d17ed1f30b450c1bebbe4030ecc78",
   "display_name": "Python 3.9.5 64-bit"
  },
  "language_info": {
   "codemirror_mode": {
    "name": "ipython",
    "version": 3
   },
   "file_extension": ".py",
   "mimetype": "text/x-python",
   "name": "python",
   "nbconvert_exporter": "python",
   "pygments_lexer": "ipython3",
   "version": "3.9.5"
  },
  "metadata": {
   "interpreter": {
    "hash": "dc3ed4a2de3c1116da98ab5f2b5f7991e93d17ed1f30b450c1bebbe4030ecc78"
   }
  }
 },
 "nbformat": 4,
 "nbformat_minor": 2
}